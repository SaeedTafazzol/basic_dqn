{
  "nbformat": 4,
  "nbformat_minor": 0,
  "metadata": {
    "colab": {
      "name": "mlc-dqn-atari.ipynb",
      "provenance": [],
      "collapsed_sections": [],
      "authorship_tag": "ABX9TyODnlXxY0ppmyZzN8O+c3Gw",
      "include_colab_link": true
    },
    "kernelspec": {
      "name": "python3",
      "display_name": "Python 3"
    },
    "language_info": {
      "name": "python"
    }
  },
  "cells": [
    {
      "cell_type": "markdown",
      "metadata": {
        "id": "view-in-github",
        "colab_type": "text"
      },
      "source": [
        "<a href=\"https://colab.research.google.com/github/moodlep/basic_dqn/blob/master/mlc_dqn_atari.ipynb\" target=\"_parent\"><img src=\"https://colab.research.google.com/assets/colab-badge.svg\" alt=\"Open In Colab\"/></a>"
      ]
    },
    {
      "cell_type": "markdown",
      "metadata": {
        "id": "9Af9yIW6Gy5h"
      },
      "source": [
        "# Do we need this?? "
      ]
    },
    {
      "cell_type": "code",
      "metadata": {
        "colab": {
          "base_uri": "https://localhost:8080/"
        },
        "id": "sthShy9MliKv",
        "outputId": "2b54fd54-efd1-47c3-a0c4-6f3ed07ffd67"
      },
      "source": [
        "!pip install ale-py"
      ],
      "execution_count": 1,
      "outputs": [
        {
          "output_type": "stream",
          "name": "stdout",
          "text": [
            "Collecting ale-py\n",
            "  Downloading ale_py-0.7.3-cp37-cp37m-manylinux_2_17_x86_64.manylinux2014_x86_64.whl (1.6 MB)\n",
            "\u001b[K     |████████████████████████████████| 1.6 MB 4.2 MB/s \n",
            "\u001b[?25hRequirement already satisfied: numpy in /usr/local/lib/python3.7/dist-packages (from ale-py) (1.19.5)\n",
            "Requirement already satisfied: importlib-metadata in /usr/local/lib/python3.7/dist-packages (from ale-py) (4.8.2)\n",
            "Requirement already satisfied: importlib-resources in /usr/local/lib/python3.7/dist-packages (from ale-py) (5.4.0)\n",
            "Requirement already satisfied: zipp>=0.5 in /usr/local/lib/python3.7/dist-packages (from importlib-metadata->ale-py) (3.6.0)\n",
            "Requirement already satisfied: typing-extensions>=3.6.4 in /usr/local/lib/python3.7/dist-packages (from importlib-metadata->ale-py) (3.10.0.2)\n",
            "Installing collected packages: ale-py\n",
            "Successfully installed ale-py-0.7.3\n"
          ]
        }
      ]
    },
    {
      "cell_type": "code",
      "metadata": {
        "id": "IA9qFQeVlrXD"
      },
      "source": [
        "from ale_py import ALEInterface\n",
        "\n",
        "ale = ALEInterface()"
      ],
      "execution_count": 1,
      "outputs": []
    },
    {
      "cell_type": "code",
      "metadata": {
        "id": "OnW2Pbwnlxk_"
      },
      "source": [
        "from ale_py.roms import Breakout\n",
        "\n",
        "ale.loadROM(Breakout)"
      ],
      "execution_count": null,
      "outputs": []
    },
    {
      "cell_type": "markdown",
      "metadata": {
        "id": "3QYknFN5G8F4"
      },
      "source": [
        "Below taken from [link](https://colab.research.google.com/github/GiannisMitr/DQN-Atari-Breakout/blob/master/dqn_atari_breakout.ipynb)\n",
        "\n",
        "\n",
        "# Install Atari ROMs "
      ]
    },
    {
      "cell_type": "code",
      "metadata": {
        "id": "8C5cmoBmvziM"
      },
      "source": [
        "#Make necessary imports\n",
        "\n",
        "import gym\n",
        "import numpy as np\n",
        "import pandas as pd\n",
        "import matplotlib.pyplot as plt\n",
        "%matplotlib inline\n",
        "\n",
        "import urllib.request\n",
        "urllib.request.urlretrieve('http://www.atarimania.com/roms/Roms.rar','Roms.rar')\n",
        "!pip install unrar\n",
        "!unrar x Roms.rar\n",
        "!mkdir rars\n",
        "!mv HC\\ ROMS.zip   rars\n",
        "!mv ROMS.zip  rars\n",
        "!python -m atari_py.import_roms rars"
      ],
      "execution_count": null,
      "outputs": []
    },
    {
      "cell_type": "code",
      "metadata": {
        "colab": {
          "base_uri": "https://localhost:8080/"
        },
        "id": "st3lWelal27F",
        "outputId": "0eb7b30a-88bd-4f3b-9583-7042f3c3a6d8"
      },
      "source": [
        "# Test a basic env: \n",
        "import gym\n",
        "env = gym.make('Breakout-v4')\n",
        "env.observation_space.shape, env.action_space.n"
      ],
      "execution_count": 5,
      "outputs": [
        {
          "output_type": "stream",
          "name": "stderr",
          "text": [
            "/usr/local/lib/python3.7/dist-packages/gym/logger.py:30: UserWarning: \u001b[33mWARN: obs_type \"image\" should be replaced with the image type, one of: rgb, grayscale\u001b[0m\n",
            "  warnings.warn(colorize('%s: %s'%('WARN', msg % args), 'yellow'))\n"
          ]
        }
      ]
    },
    {
      "cell_type": "markdown",
      "metadata": {
        "id": "prFTtwJ_HWZv"
      },
      "source": [
        "## SB3 has some nice wrappers we can use, taken from cleanrl"
      ]
    },
    {
      "cell_type": "code",
      "metadata": {
        "id": "qdeJoGMrsKiR"
      },
      "source": [
        "!pip install stable-baselines3[extra]"
      ],
      "execution_count": null,
      "outputs": []
    },
    {
      "cell_type": "code",
      "metadata": {
        "id": "l-o8OYWCqYek"
      },
      "source": [
        "# taken from https://github.com/vwxyzjn/cleanrl/blob/master/cleanrl/atari/dqn_atari.py\n",
        "from gym.spaces import Discrete\n",
        "from gym.wrappers import Monitor\n",
        "from stable_baselines3.common.atari_wrappers import (\n",
        "    ClipRewardEnv,\n",
        "    EpisodicLifeEnv,\n",
        "    FireResetEnv,\n",
        "    MaxAndSkipEnv,\n",
        "    NoopResetEnv,\n",
        "    WarpFrame,\n",
        ")\n",
        "from stable_baselines3.common.vec_env import DummyVecEnv, VecFrameStack\n"
      ],
      "execution_count": 28,
      "outputs": []
    },
    {
      "cell_type": "code",
      "metadata": {
        "id": "hgUk9dYjsImu"
      },
      "source": [
        "# taken from https://github.com/vwxyzjn/cleanrl/blob/master/cleanrl/atari/dqn_atari.py\n",
        "def make_env(gym_id, idx):\n",
        "    def thunk():\n",
        "        env = gym.make(gym_id)\n",
        "        env = NoopResetEnv(env, noop_max=30)\n",
        "        env = MaxAndSkipEnv(env, skip=4)\n",
        "        env = gym.wrappers.RecordEpisodeStatistics(env)\n",
        "        # if args.capture_video:\n",
        "        #     if idx == 0:\n",
        "        #         env = Monitor(env, f\"videos/{experiment_name}\")\n",
        "        env = EpisodicLifeEnv(env)\n",
        "        if \"FIRE\" in env.unwrapped.get_action_meanings():\n",
        "            env = FireResetEnv(env)\n",
        "        env = WarpFrame(env, width=84, height=84)\n",
        "        env = ClipRewardEnv(env)\n",
        "        # env.seed(seed)\n",
        "        # env.action_space.seed(seed)\n",
        "        # env.observation_space.seed(seed)\n",
        "        return env\n",
        "\n",
        "    return thunk"
      ],
      "execution_count": 26,
      "outputs": []
    },
    {
      "cell_type": "code",
      "metadata": {
        "colab": {
          "base_uri": "https://localhost:8080/"
        },
        "id": "fH58jaiTspxr",
        "outputId": "6033ef65-ee23-4287-9a5f-9f809488457d"
      },
      "source": [
        "envs = VecFrameStack(\n",
        "        DummyVecEnv([make_env('Breakout-v4', 0)]),\n",
        "        4,\n",
        "    )"
      ],
      "execution_count": 30,
      "outputs": [
        {
          "output_type": "stream",
          "name": "stderr",
          "text": [
            "/usr/local/lib/python3.7/dist-packages/gym/logger.py:30: UserWarning: \u001b[33mWARN: obs_type \"image\" should be replaced with the image type, one of: rgb, grayscale\u001b[0m\n",
            "  warnings.warn(colorize('%s: %s'%('WARN', msg % args), 'yellow'))\n"
          ]
        }
      ]
    },
    {
      "cell_type": "code",
      "metadata": {
        "colab": {
          "base_uri": "https://localhost:8080/"
        },
        "id": "JeM1vBxCs7yL",
        "outputId": "88dd5040-0ce8-4b50-d814-1a0cb68b86f0"
      },
      "source": [
        "envs.observation_space.shape, envs.action_space.n"
      ],
      "execution_count": 31,
      "outputs": [
        {
          "output_type": "execute_result",
          "data": {
            "text/plain": [
              "((84, 84, 4), 18)"
            ]
          },
          "metadata": {},
          "execution_count": 31
        }
      ]
    },
    {
      "cell_type": "code",
      "metadata": {
        "id": "b9ivsrHNtBqX"
      },
      "source": [
        "envs.observation_space.shape"
      ],
      "execution_count": null,
      "outputs": []
    },
    {
      "cell_type": "markdown",
      "metadata": {
        "id": "UHctJStEHdrx"
      },
      "source": [
        "# Coding DQN with CNNs"
      ]
    },
    {
      "cell_type": "code",
      "metadata": {
        "id": "KPmSoBZax2km"
      },
      "source": [
        "import torch\n",
        "import torch.nn as nn"
      ],
      "execution_count": 32,
      "outputs": []
    },
    {
      "cell_type": "code",
      "metadata": {
        "id": "wZ74bTOewTmc"
      },
      "source": [
        "class DQN_Network(nn.Module):\n",
        "    def __init__(self, state_dim, action_dim):\n",
        "        super(DQN_Network, self).__init__()\n",
        "\n",
        "        self.state_dim = state_dim\n",
        "        self.action_dim = action_dim\n",
        "\n",
        "        # create the dqn and target network architecture\n",
        "        self.network = nn.Sequential(\n",
        "            nn.Conv2d(4, 32, 8, stride=4),\n",
        "            nn.ReLU(),\n",
        "            nn.Conv2d(32, 64, 4, stride=2), \n",
        "            nn.ReLU(), \n",
        "            nn.Conv2d(64, 64, 3, stride=1), \n",
        "            nn.ReLU(), \n",
        "            nn.Flatten(),\n",
        "            nn.Linear(64*7*7, 256),\n",
        "            nn.ReLU(),\n",
        "            nn.Linear(256, self.action_dim)\n",
        "\n",
        "        )\n",
        "\n",
        "    def forward(self, input):\n",
        "        \n",
        "        state_t = torch.FloatTensor(input).permute(2, 0, 1).unsqueeze(0)\n",
        "        print(state_t.shape, type(state_t))\n",
        "\n",
        "        q_values = self.network(state_t)\n",
        "        return q_values\n"
      ],
      "execution_count": 73,
      "outputs": []
    },
    {
      "cell_type": "code",
      "metadata": {
        "colab": {
          "base_uri": "https://localhost:8080/"
        },
        "id": "jVWEASZSzUqQ",
        "outputId": "36d2d960-e1da-4b56-efe1-907c710541d0"
      },
      "source": [
        "state = envs.observation_space.sample()\n",
        "state.shape, type(state)"
      ],
      "execution_count": 61,
      "outputs": [
        {
          "output_type": "execute_result",
          "data": {
            "text/plain": [
              "((84, 84, 4), numpy.ndarray)"
            ]
          },
          "metadata": {},
          "execution_count": 61
        }
      ]
    },
    {
      "cell_type": "code",
      "metadata": {
        "id": "mC6hfxz4zZbC"
      },
      "source": [
        "dqn = DQN_Network(envs.observation_space.shape, envs.action_space.n)"
      ],
      "execution_count": 74,
      "outputs": []
    },
    {
      "cell_type": "code",
      "metadata": {
        "colab": {
          "base_uri": "https://localhost:8080/"
        },
        "id": "tJdA1J9mzlLD",
        "outputId": "141bdd92-dd1c-4698-80e0-949725c73a3d"
      },
      "source": [
        "dqn(state)"
      ],
      "execution_count": 75,
      "outputs": [
        {
          "output_type": "stream",
          "name": "stdout",
          "text": [
            "torch.Size([1, 4, 84, 84]) <class 'torch.Tensor'>\n"
          ]
        },
        {
          "output_type": "execute_result",
          "data": {
            "text/plain": [
              "tensor([[-7.0130, -1.4074,  1.9680, -2.8426,  7.3948,  1.0990, -2.9981,  0.7886,\n",
              "         -0.9455, -7.2115,  1.6933,  4.7429,  3.7425,  2.9521,  0.8590, -0.2901,\n",
              "          4.2088, -2.2177]], grad_fn=<AddmmBackward0>)"
            ]
          },
          "metadata": {},
          "execution_count": 75
        }
      ]
    },
    {
      "cell_type": "code",
      "metadata": {
        "id": "4Fqz9H_6zqpk"
      },
      "source": [
        ""
      ],
      "execution_count": null,
      "outputs": []
    }
  ]
}